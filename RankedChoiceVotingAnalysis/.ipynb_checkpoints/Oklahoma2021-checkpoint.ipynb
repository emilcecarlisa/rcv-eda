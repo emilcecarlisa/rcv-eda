{
 "cells": [
  {
   "cell_type": "code",
   "execution_count": 2,
   "metadata": {},
   "outputs": [],
   "source": [
    "import pandas as pd\n",
    "OkDemoHousingData = pd.read_csv(\"../data/ACSDP5Y2021.DP05-2023-03-18T225733.csv\", sep=\",\")"
   ]
  },
  {
   "cell_type": "code",
   "execution_count": 3,
   "metadata": {},
   "outputs": [
    {
     "name": "stdout",
     "output_type": "stream",
     "text": [
      "Shape of the dataset:\n",
      "(94, 309)\n"
     ]
    }
   ],
   "source": [
    "print(\"Shape of the dataset:\")\n",
    "print(OkDemoHousingData.shape)"
   ]
  },
  {
   "cell_type": "code",
   "execution_count": 4,
   "metadata": {},
   "outputs": [
    {
     "name": "stdout",
     "output_type": "stream",
     "text": [
      "Statistical summary:\n",
      "            Label (Grouping) Adair County, Oklahoma!!Estimate  \\\n",
      "count                     94                               89   \n",
      "unique                    82                               69   \n",
      "top         Total population                                0   \n",
      "freq                       4                                8   \n",
      "\n",
      "       Adair County, Oklahoma!!Margin of Error  \\\n",
      "count                                       89   \n",
      "unique                                      52   \n",
      "top                                        ±16   \n",
      "freq                                         8   \n",
      "\n",
      "       Adair County, Oklahoma!!Percent  \\\n",
      "count                               89   \n",
      "unique                              56   \n",
      "top                               0.0%   \n",
      "freq                                13   \n",
      "\n",
      "       Adair County, Oklahoma!!Percent Margin of Error  \\\n",
      "count                                               89   \n",
      "unique                                              17   \n",
      "top                                               ±0.1   \n",
      "freq                                                22   \n",
      "\n",
      "       Alfalfa County, Oklahoma!!Estimate  \\\n",
      "count                                  89   \n",
      "unique                                 65   \n",
      "top                                     0   \n",
      "freq                                   13   \n",
      "\n",
      "       Alfalfa County, Oklahoma!!Margin of Error  \\\n",
      "count                                         89   \n",
      "unique                                        47   \n",
      "top                                          ±14   \n",
      "freq                                          14   \n",
      "\n",
      "       Alfalfa County, Oklahoma!!Percent  \\\n",
      "count                                 89   \n",
      "unique                                56   \n",
      "top                                 0.0%   \n",
      "freq                                  14   \n",
      "\n",
      "       Alfalfa County, Oklahoma!!Percent Margin of Error  \\\n",
      "count                                                 89   \n",
      "unique                                                19   \n",
      "top                                                 ±0.4   \n",
      "freq                                                  14   \n",
      "\n",
      "       Atoka County, Oklahoma!!Estimate  ...  \\\n",
      "count                                89  ...   \n",
      "unique                               69  ...   \n",
      "top                                   0  ...   \n",
      "freq                                  8  ...   \n",
      "\n",
      "       Washita County, Oklahoma!!Percent  \\\n",
      "count                                 89   \n",
      "unique                                55   \n",
      "top                                 0.0%   \n",
      "freq                                  15   \n",
      "\n",
      "       Washita County, Oklahoma!!Percent Margin of Error  \\\n",
      "count                                                 89   \n",
      "unique                                                15   \n",
      "top                                                 ±0.2   \n",
      "freq                                                  16   \n",
      "\n",
      "       Woods County, Oklahoma!!Estimate  \\\n",
      "count                                89   \n",
      "unique                               65   \n",
      "top                                   0   \n",
      "freq                                 16   \n",
      "\n",
      "       Woods County, Oklahoma!!Margin of Error  \\\n",
      "count                                       89   \n",
      "unique                                      49   \n",
      "top                                        ±14   \n",
      "freq                                        17   \n",
      "\n",
      "       Woods County, Oklahoma!!Percent  \\\n",
      "count                               89   \n",
      "unique                              53   \n",
      "top                               0.0%   \n",
      "freq                                17   \n",
      "\n",
      "       Woods County, Oklahoma!!Percent Margin of Error  \\\n",
      "count                                               89   \n",
      "unique                                              17   \n",
      "top                                               ±0.3   \n",
      "freq                                                21   \n",
      "\n",
      "       Woodward County, Oklahoma!!Estimate  \\\n",
      "count                                   89   \n",
      "unique                                  71   \n",
      "top                                      0   \n",
      "freq                                     8   \n",
      "\n",
      "       Woodward County, Oklahoma!!Margin of Error  \\\n",
      "count                                          89   \n",
      "unique                                         58   \n",
      "top                                           ±18   \n",
      "freq                                            8   \n",
      "\n",
      "       Woodward County, Oklahoma!!Percent  \\\n",
      "count                                  89   \n",
      "unique                                 53   \n",
      "top                                  0.0%   \n",
      "freq                                   16   \n",
      "\n",
      "       Woodward County, Oklahoma!!Percent Margin of Error  \n",
      "count                                                  89  \n",
      "unique                                                 17  \n",
      "top                                                  ±0.1  \n",
      "freq                                                   19  \n",
      "\n",
      "[4 rows x 309 columns]\n"
     ]
    }
   ],
   "source": [
    "print(\"Statistical summary:\")\n",
    "print(OkDemoHousingData.describe())"
   ]
  },
  {
   "cell_type": "code",
   "execution_count": 5,
   "metadata": {},
   "outputs": [
    {
     "name": "stdout",
     "output_type": "stream",
     "text": [
      "Null values in the dataset:\n",
      "Label (Grouping)                                      0\n",
      "Adair County, Oklahoma!!Estimate                      5\n",
      "Adair County, Oklahoma!!Margin of Error               5\n",
      "Adair County, Oklahoma!!Percent                       5\n",
      "Adair County, Oklahoma!!Percent Margin of Error       5\n",
      "                                                     ..\n",
      "Woods County, Oklahoma!!Percent Margin of Error       5\n",
      "Woodward County, Oklahoma!!Estimate                   5\n",
      "Woodward County, Oklahoma!!Margin of Error            5\n",
      "Woodward County, Oklahoma!!Percent                    5\n",
      "Woodward County, Oklahoma!!Percent Margin of Error    5\n",
      "Length: 309, dtype: int64\n"
     ]
    }
   ],
   "source": [
    "print(\"Null values in the dataset:\")\n",
    "print(OkDemoHousingData.isnull().sum())"
   ]
  }
 ],
 "metadata": {
  "kernelspec": {
   "display_name": "Python 3 (ipykernel)",
   "language": "python",
   "name": "python3"
  },
  "language_info": {
   "codemirror_mode": {
    "name": "ipython",
    "version": 3
   },
   "file_extension": ".py",
   "mimetype": "text/x-python",
   "name": "python",
   "nbconvert_exporter": "python",
   "pygments_lexer": "ipython3",
   "version": "3.8.3"
  }
 },
 "nbformat": 4,
 "nbformat_minor": 4
}
